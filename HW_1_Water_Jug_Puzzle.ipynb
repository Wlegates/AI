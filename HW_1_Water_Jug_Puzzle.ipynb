{
  "nbformat": 4,
  "nbformat_minor": 0,
  "metadata": {
    "colab": {
      "provenance": [],
      "authorship_tag": "ABX9TyPO9sexQKBf1OgcF3nyRfo0",
      "include_colab_link": true
    },
    "kernelspec": {
      "name": "python3",
      "display_name": "Python 3"
    },
    "language_info": {
      "name": "python"
    }
  },
  "cells": [
    {
      "cell_type": "markdown",
      "metadata": {
        "id": "view-in-github",
        "colab_type": "text"
      },
      "source": [
        "<a href=\"https://colab.research.google.com/github/Wlegates/AI/blob/main/HW_1_Water_Jug_Puzzle.ipynb\" target=\"_parent\"><img src=\"https://colab.research.google.com/assets/colab-badge.svg\" alt=\"Open In Colab\"/></a>"
      ]
    },
    {
      "cell_type": "code",
      "source": [
        "class WaterJugpuzzle:\n",
        "  #goal: have exactly 4l in the 5l jug\n",
        "\n",
        "  #constraints: 1. Cant overflow 2. Can only fill a jug to full capacity\n",
        "\n",
        "\n",
        "#saves the current state\n",
        "  def saveState(self):\n",
        "    self.leftJug = self.leftJug\n",
        "    self.rightJug = self.rightJug\n",
        "\n",
        "#jugs are modeled via integers keeping track of how much water is in them\n",
        "  def __init__(self):\n",
        "    self.leftJug = 0\n",
        "    self.rightJug = 0\n",
        "\n",
        "\n",
        "###########################\n",
        "#Rule 1 Fill the large Jug#\n",
        "###########################\n",
        "  def fillLeft(self):\n",
        "    self.leftJug = 5\n",
        "\n",
        "######################\n",
        "#Rule 2 fill the right Jug#\n",
        "######################\n",
        "\n",
        "  def fillRight(self):\n",
        "    self.rightJug = 3\n",
        "\n",
        "##################\n",
        "#Rule 3 empty left Jug#\n",
        "##################\n",
        "\n",
        "  def emptyLeft(self):\n",
        "    self.leftJug = 0\n",
        "########################\n",
        "#Rule 4 empty right Jug#\n",
        "########################\n",
        "\n",
        "  def emptyRight(self):\n",
        "    self.rightJug = 0\n",
        "\n",
        "##############################################\n",
        "#Rule 5 empty the right Jug into the left Jug#\n",
        "##############################################\n",
        "\n",
        "  def emptyRightIntoleft(self):\n",
        "    AmtToFill = 5 - self.leftJug\n",
        "    if(self.leftJug + self.rightJug > 5):\n",
        "      self.leftJug += AmtToFill\n",
        "      self.rightJug -= AmtToFill\n",
        "    else:\n",
        "      self.leftJug += self.rightJug\n",
        "      self.rightJug = 0\n",
        "\n",
        "###############################################\n",
        "#Rule 6 empty the left Jug into the right Jug #\n",
        "###############################################\n",
        "\n",
        "  def emptyLeftIntoRight(self):\n",
        "    AmtToFill = 3 - self.rightJug\n",
        "    if(self.leftJug + self.rightJug > 3):\n",
        "      self.rightJug += AmtToFill\n",
        "      self.leftJug -= AmtToFill\n",
        "    else:\n",
        "      self.rightJug += self.leftJug\n",
        "      self.leftJug = 0\n",
        "\n",
        "\n",
        "#Prints the current values of both Jugs\n",
        "  def printState(self):\n",
        "    print(f\"{self.leftJug} {self.rightJug}\")"
      ],
      "metadata": {
        "id": "Xt0L14Bs7Eta"
      },
      "execution_count": null,
      "outputs": []
    },
    {
      "cell_type": "code",
      "source": [
        "jp = WaterJugpuzzle()\n",
        "\n",
        "#print the initial state\n",
        "jp.printState()\n",
        "\n",
        "#Using the rules to solve the problem\n",
        "\n",
        "print(\"------------------------\")\n",
        "#uses rule 1\n",
        "jp.saveState()\n",
        "jp.fillLeft()\n",
        "jp.printState()\n",
        "\n",
        "print(\"------------------------\")\n",
        "#Uses rule 6\n",
        "jp.saveState()\n",
        "jp.emptyLeftIntoRight()\n",
        "jp.printState()\n",
        "\n",
        "print(\"------------------------\")\n",
        "#Uses Rule 4\n",
        "jp.saveState()\n",
        "jp.emptyRight()\n",
        "jp.printState()\n",
        "\n",
        "print(\"------------------------\")\n",
        "#Uses Rule 6\n",
        "jp.saveState()\n",
        "jp.emptyLeftIntoRight()\n",
        "jp.printState()\n",
        "\n",
        "print(\"------------------------\")\n",
        "#Uses Rule 1\n",
        "jp.saveState()\n",
        "jp.fillLeft()\n",
        "jp.printState()\n",
        "\n",
        "print(\"------------------------\")\n",
        "#Uses rule 6\n",
        "jp.saveState()\n",
        "jp.emptyLeftIntoRight()\n",
        "jp.printState()"
      ],
      "metadata": {
        "colab": {
          "base_uri": "https://localhost:8080/"
        },
        "id": "_f6UF9sgI8RY",
        "outputId": "49515595-aa8d-4401-94ee-68a674484543"
      },
      "execution_count": null,
      "outputs": [
        {
          "output_type": "stream",
          "name": "stdout",
          "text": [
            "0 0\n",
            "------------------------\n",
            "5 0\n",
            "------------------------\n",
            "2 3\n",
            "------------------------\n",
            "2 0\n",
            "------------------------\n",
            "0 2\n",
            "------------------------\n",
            "5 2\n",
            "------------------------\n",
            "4 3\n"
          ]
        }
      ]
    }
  ]
}